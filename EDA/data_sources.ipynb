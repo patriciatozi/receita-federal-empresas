{
 "cells": [
  {
   "cell_type": "markdown",
   "id": "e68bac89",
   "metadata": {},
   "source": [
    "# Import libraries"
   ]
  },
  {
   "cell_type": "code",
   "execution_count": 7,
   "id": "1e482731",
   "metadata": {},
   "outputs": [],
   "source": [
    "import pandas as pd\n",
    "from bs4 import BeautifulSoup\n",
    "import requests\n",
    "import zipfile\n",
    "import re\n",
    "import io"
   ]
  },
  {
   "cell_type": "markdown",
   "id": "f274d585",
   "metadata": {},
   "source": [
    "# Functions"
   ]
  },
  {
   "cell_type": "code",
   "execution_count": 1,
   "id": "22b877b2",
   "metadata": {},
   "outputs": [],
   "source": [
    "def get_response(url):\n",
    "\n",
    "    response = requests.get(url)\n",
    "    response.raise_for_status()\n",
    "\n",
    "    return response"
   ]
  },
  {
   "cell_type": "code",
   "execution_count": 2,
   "id": "c7a57963",
   "metadata": {},
   "outputs": [],
   "source": [
    "def get_compiled_pattern(response, pattern):\n",
    "\n",
    "    soup = BeautifulSoup(response.text, \"html.parser\")\n",
    "\n",
    "    return re.compile(pattern), soup"
   ]
  },
  {
   "cell_type": "code",
   "execution_count": null,
   "id": "c45ce0b0",
   "metadata": {},
   "outputs": [],
   "source": [
    "def get_last_folder(url):\n",
    "\n",
    "    response = get_response(url)\n",
    "\n",
    "    pattern, soup = get_compiled_pattern(response, r\"^\\d{4}-\\d{2}/$\")\n",
    "\n",
    "    folders = [a[\"href\"].strip(\"/\") for a in soup.find_all(\"a\", href=pattern)]\n",
    "    last_folder = sorted(folders)[-1]\n",
    "\n",
    "    print(\"Última pasta encontrada:\", last_folder)\n",
    "\n",
    "    return last_folder"
   ]
  },
  {
   "cell_type": "code",
   "execution_count": null,
   "id": "d7f855df",
   "metadata": {},
   "outputs": [],
   "source": [
    "def get_source_data(\n",
    "    endpoint,\n",
    "    key,\n",
    "    file_columns,\n",
    "    file_dtypes\n",
    "):\n",
    "\n",
    "    last_updated_folder = get_last_folder(endpoint)\n",
    "\n",
    "    print(last_updated_folder)\n",
    "\n",
    "    response_folder = get_response(endpoint + last_updated_folder + \"/\")\n",
    "\n",
    "    key_pattern, soup_folder = get_compiled_pattern(response_folder, r\"^{key}\\d+\\.zip$\".format(key=key))\n",
    "\n",
    "    files = [a[\"href\"] for a in soup_folder.find_all(\"a\", href=key_pattern)]\n",
    "    first_file = sorted(files, key=lambda x: int(re.search(r\"(\\d+)\", x).group()))[1]\n",
    "    print(\"Primeiro arquivo encontrado:\", first_file)\n",
    "\n",
    "    last_file = get_response(endpoint + last_updated_folder + \"/\" + first_file)\n",
    "\n",
    "    z = zipfile.ZipFile(io.BytesIO(last_file.content))\n",
    "\n",
    "    csv_name = z.namelist()[0] \n",
    "    print(\"Arquivo dentro do ZIP:\", csv_name)\n",
    "\n",
    "    df = pd.read_csv(\n",
    "        z.open(csv_name),\n",
    "        sep=\";\",\n",
    "        encoding=\"latin1\",\n",
    "        usecols=list(range(len(file_columns))),\n",
    "        names=file_columns,\n",
    "        dtype=file_dtypes,\n",
    "        header=None,\n",
    "        low_memory=False\n",
    "    )\n",
    "\n",
    "    print(\"Total de linhas:\", len(df))\n",
    "\n",
    "    return df    "
   ]
  },
  {
   "cell_type": "markdown",
   "id": "fed12c65",
   "metadata": {},
   "source": [
    "# Read Data"
   ]
  },
  {
   "cell_type": "code",
   "execution_count": 4,
   "id": "2cefdf64",
   "metadata": {},
   "outputs": [],
   "source": [
    "endpoint = \"https://arquivos.receitafederal.gov.br/dados/cnpj/dados_abertos_cnpj/\""
   ]
  },
  {
   "cell_type": "markdown",
   "id": "effa793b",
   "metadata": {},
   "source": [
    "## Empresas"
   ]
  },
  {
   "cell_type": "code",
   "execution_count": 7,
   "id": "7b59b26c",
   "metadata": {},
   "outputs": [
    {
     "name": "stdout",
     "output_type": "stream",
     "text": [
      "Última pasta encontrada: 2025-09\n",
      "2025-09\n",
      "Primeiro arquivo encontrado: Empresas1.zip\n",
      "Arquivo dentro do ZIP: K3241.K03200Y1.D50913.EMPRECSV\n",
      "Total de linhas: 4494860\n"
     ]
    }
   ],
   "source": [
    "def get_empresas(endpoint):\n",
    "\n",
    "    company_columns = [\n",
    "        \"cnpj\",\n",
    "        \"razao_social\",\n",
    "        \"natureza_juridica\",\n",
    "        \"qualificacao_responsavel\",\n",
    "        \"capital_social\",\n",
    "        \"cod_porte\"\n",
    "    ]\n",
    "\n",
    "    company_dtypes = {\n",
    "        \"cnpj\": \"string\",\n",
    "        \"razao_social\": \"string\",\n",
    "        \"natureza_juridica\": \"Int64\", \n",
    "        \"qualificacao_responsavel\": \"Int64\",\n",
    "        \"capital_social\": \"string\",\n",
    "        \"cod_porte\": \"string\"\n",
    "    }\n",
    "\n",
    "    df_empresas = (\n",
    "        get_source_data(\n",
    "            endpoint,\n",
    "            \"Empresas\",\n",
    "            company_columns,\n",
    "            company_dtypes\n",
    "        )\n",
    "    )\n",
    "\n",
    "    return df_empresas\n",
    "\n",
    "\n",
    "df_empresas = get_empresas(endpoint)\n"
   ]
  },
  {
   "cell_type": "markdown",
   "id": "d7dd7255",
   "metadata": {},
   "source": [
    "## Sócios"
   ]
  },
  {
   "cell_type": "code",
   "execution_count": 15,
   "id": "3a036930",
   "metadata": {},
   "outputs": [
    {
     "name": "stdout",
     "output_type": "stream",
     "text": [
      "Última pasta encontrada: 2025-09\n",
      "2025-09\n",
      "Primeiro arquivo encontrado: Socios1.zip\n",
      "Arquivo dentro do ZIP: K3241.K03200Y1.D50913.SOCIOCSV\n",
      "Total de linhas: 2019150\n"
     ]
    }
   ],
   "source": [
    "def get_socios(endpoint):\n",
    "\n",
    "    partners_columns = [\n",
    "        \"cnpj\",\n",
    "        \"tipo_socio\",\n",
    "        \"nome_socio\",\n",
    "        \"documento_socio\",\n",
    "        \"codigo_qualificacao_socio\"\n",
    "    ]\n",
    "\n",
    "    partners_dtypes = {\n",
    "        \"cnpj\": \"string\",\n",
    "        \"tipo_socio\": \"Int64\",\n",
    "        \"nome_socio\": \"string\", \n",
    "        \"documento_socio\": \"string\",\n",
    "        \"codigo_qualificacao_socio\": \"string\"\n",
    "    }\n",
    "\n",
    "    df_socios = (\n",
    "        get_source_data(\n",
    "            endpoint,\n",
    "            \"Socios\",\n",
    "            partners_columns,\n",
    "            partners_dtypes\n",
    "        )\n",
    "    )\n",
    "\n",
    "    return df_socios\n",
    "\n",
    "\n",
    "df_socios = get_socios(endpoint)"
   ]
  },
  {
   "cell_type": "markdown",
   "id": "daaeaf5c",
   "metadata": {},
   "source": [
    "# Análise Exploratória"
   ]
  },
  {
   "cell_type": "markdown",
   "id": "73f07de2",
   "metadata": {},
   "source": [
    "## Empresas"
   ]
  },
  {
   "cell_type": "code",
   "execution_count": 16,
   "id": "c72bb336",
   "metadata": {},
   "outputs": [
    {
     "name": "stdout",
     "output_type": "stream",
     "text": [
      "<class 'pandas.core.frame.DataFrame'>\n",
      "RangeIndex: 4494860 entries, 0 to 4494859\n",
      "Data columns (total 6 columns):\n",
      " #   Column                    Dtype \n",
      "---  ------                    ----- \n",
      " 0   cnpj                      string\n",
      " 1   razao_social              string\n",
      " 2   natureza_juridica         Int64 \n",
      " 3   qualificacao_responsavel  Int64 \n",
      " 4   capital_social            string\n",
      " 5   cod_porte                 string\n",
      "dtypes: Int64(2), string(4)\n",
      "memory usage: 214.3 MB\n"
     ]
    }
   ],
   "source": [
    "df_empresas.info()"
   ]
  },
  {
   "cell_type": "code",
   "execution_count": 17,
   "id": "d50c5667",
   "metadata": {},
   "outputs": [
    {
     "data": {
      "text/html": [
       "<div>\n",
       "<style scoped>\n",
       "    .dataframe tbody tr th:only-of-type {\n",
       "        vertical-align: middle;\n",
       "    }\n",
       "\n",
       "    .dataframe tbody tr th {\n",
       "        vertical-align: top;\n",
       "    }\n",
       "\n",
       "    .dataframe thead th {\n",
       "        text-align: right;\n",
       "    }\n",
       "</style>\n",
       "<table border=\"1\" class=\"dataframe\">\n",
       "  <thead>\n",
       "    <tr style=\"text-align: right;\">\n",
       "      <th></th>\n",
       "      <th>natureza_juridica</th>\n",
       "      <th>qualificacao_responsavel</th>\n",
       "    </tr>\n",
       "  </thead>\n",
       "  <tbody>\n",
       "    <tr>\n",
       "      <th>count</th>\n",
       "      <td>4494860.0</td>\n",
       "      <td>4494860.0</td>\n",
       "    </tr>\n",
       "    <tr>\n",
       "      <th>mean</th>\n",
       "      <td>2269.640283</td>\n",
       "      <td>45.696283</td>\n",
       "    </tr>\n",
       "    <tr>\n",
       "      <th>std</th>\n",
       "      <td>524.491856</td>\n",
       "      <td>10.662181</td>\n",
       "    </tr>\n",
       "    <tr>\n",
       "      <th>min</th>\n",
       "      <td>1015.0</td>\n",
       "      <td>0.0</td>\n",
       "    </tr>\n",
       "    <tr>\n",
       "      <th>25%</th>\n",
       "      <td>2062.0</td>\n",
       "      <td>49.0</td>\n",
       "    </tr>\n",
       "    <tr>\n",
       "      <th>50%</th>\n",
       "      <td>2135.0</td>\n",
       "      <td>49.0</td>\n",
       "    </tr>\n",
       "    <tr>\n",
       "      <th>75%</th>\n",
       "      <td>2135.0</td>\n",
       "      <td>50.0</td>\n",
       "    </tr>\n",
       "    <tr>\n",
       "      <th>max</th>\n",
       "      <td>8885.0</td>\n",
       "      <td>65.0</td>\n",
       "    </tr>\n",
       "  </tbody>\n",
       "</table>\n",
       "</div>"
      ],
      "text/plain": [
       "       natureza_juridica  qualificacao_responsavel\n",
       "count          4494860.0                 4494860.0\n",
       "mean         2269.640283                 45.696283\n",
       "std           524.491856                 10.662181\n",
       "min               1015.0                       0.0\n",
       "25%               2062.0                      49.0\n",
       "50%               2135.0                      49.0\n",
       "75%               2135.0                      50.0\n",
       "max               8885.0                      65.0"
      ]
     },
     "execution_count": 17,
     "metadata": {},
     "output_type": "execute_result"
    }
   ],
   "source": [
    "df_empresas.describe()"
   ]
  },
  {
   "cell_type": "markdown",
   "id": "65f2bc36",
   "metadata": {},
   "source": [
    "### Checando CNPJs duplicados"
   ]
  },
  {
   "cell_type": "code",
   "execution_count": 18,
   "id": "f8ab686d",
   "metadata": {},
   "outputs": [
    {
     "name": "stdout",
     "output_type": "stream",
     "text": [
      "Não existem CNPJs duplicados\n"
     ]
    }
   ],
   "source": [
    "duplicates = df_empresas.duplicated(keep=False).sum()\n",
    "\n",
    "if duplicates > 0:\n",
    "    print(f\"Existem {duplicates} registros duplicados\")\n",
    "else:\n",
    "    print(\"Não existem CNPJs duplicados\")"
   ]
  },
  {
   "cell_type": "markdown",
   "id": "d8b6a49b",
   "metadata": {},
   "source": [
    "### Checando % de Nulos"
   ]
  },
  {
   "cell_type": "code",
   "execution_count": 19,
   "id": "9a08ba27",
   "metadata": {},
   "outputs": [
    {
     "name": "stdout",
     "output_type": "stream",
     "text": [
      "cnpj                        0.0\n",
      "razao_social                0.0\n",
      "natureza_juridica           0.0\n",
      "qualificacao_responsavel    0.0\n",
      "capital_social              0.0\n",
      "cod_porte                   0.0\n",
      "dtype: float64\n"
     ]
    }
   ],
   "source": [
    "null_percentage = (df_empresas.isna().sum() / len(df_empresas)) * 100\n",
    "print(null_percentage.round(2))"
   ]
  },
  {
   "cell_type": "markdown",
   "id": "1f581392",
   "metadata": {},
   "source": [
    "## Sócios"
   ]
  },
  {
   "cell_type": "code",
   "execution_count": 20,
   "id": "ce5f233f",
   "metadata": {},
   "outputs": [
    {
     "name": "stdout",
     "output_type": "stream",
     "text": [
      "<class 'pandas.core.frame.DataFrame'>\n",
      "RangeIndex: 2019150 entries, 0 to 2019149\n",
      "Data columns (total 5 columns):\n",
      " #   Column                     Dtype \n",
      "---  ------                     ----- \n",
      " 0   cnpj                       string\n",
      " 1   tipo_socio                 Int64 \n",
      " 2   nome_socio                 string\n",
      " 3   documento_socio            string\n",
      " 4   codigo_qualificacao_socio  string\n",
      "dtypes: Int64(1), string(4)\n",
      "memory usage: 79.0 MB\n"
     ]
    }
   ],
   "source": [
    "df_socios.info()"
   ]
  },
  {
   "cell_type": "code",
   "execution_count": 21,
   "id": "2278f75b",
   "metadata": {},
   "outputs": [
    {
     "data": {
      "text/html": [
       "<div>\n",
       "<style scoped>\n",
       "    .dataframe tbody tr th:only-of-type {\n",
       "        vertical-align: middle;\n",
       "    }\n",
       "\n",
       "    .dataframe tbody tr th {\n",
       "        vertical-align: top;\n",
       "    }\n",
       "\n",
       "    .dataframe thead th {\n",
       "        text-align: right;\n",
       "    }\n",
       "</style>\n",
       "<table border=\"1\" class=\"dataframe\">\n",
       "  <thead>\n",
       "    <tr style=\"text-align: right;\">\n",
       "      <th></th>\n",
       "      <th>tipo_socio</th>\n",
       "    </tr>\n",
       "  </thead>\n",
       "  <tbody>\n",
       "    <tr>\n",
       "      <th>count</th>\n",
       "      <td>2019150.0</td>\n",
       "    </tr>\n",
       "    <tr>\n",
       "      <th>mean</th>\n",
       "      <td>1.97957</td>\n",
       "    </tr>\n",
       "    <tr>\n",
       "      <th>std</th>\n",
       "      <td>0.145637</td>\n",
       "    </tr>\n",
       "    <tr>\n",
       "      <th>min</th>\n",
       "      <td>1.0</td>\n",
       "    </tr>\n",
       "    <tr>\n",
       "      <th>25%</th>\n",
       "      <td>2.0</td>\n",
       "    </tr>\n",
       "    <tr>\n",
       "      <th>50%</th>\n",
       "      <td>2.0</td>\n",
       "    </tr>\n",
       "    <tr>\n",
       "      <th>75%</th>\n",
       "      <td>2.0</td>\n",
       "    </tr>\n",
       "    <tr>\n",
       "      <th>max</th>\n",
       "      <td>3.0</td>\n",
       "    </tr>\n",
       "  </tbody>\n",
       "</table>\n",
       "</div>"
      ],
      "text/plain": [
       "       tipo_socio\n",
       "count   2019150.0\n",
       "mean      1.97957\n",
       "std      0.145637\n",
       "min           1.0\n",
       "25%           2.0\n",
       "50%           2.0\n",
       "75%           2.0\n",
       "max           3.0"
      ]
     },
     "execution_count": 21,
     "metadata": {},
     "output_type": "execute_result"
    }
   ],
   "source": [
    "df_socios.describe()"
   ]
  },
  {
   "cell_type": "markdown",
   "id": "ce2a4626",
   "metadata": {},
   "source": [
    "### Tipos de Sócios"
   ]
  },
  {
   "cell_type": "code",
   "execution_count": 22,
   "id": "49f0725b",
   "metadata": {},
   "outputs": [
    {
     "data": {
      "text/plain": [
       "tipo_socio\n",
       "2    1975481\n",
       "1      42460\n",
       "3       1209\n",
       "Name: count, dtype: Int64"
      ]
     },
     "execution_count": 22,
     "metadata": {},
     "output_type": "execute_result"
    }
   ],
   "source": [
    "df_socios[\"tipo_socio\"].value_counts()"
   ]
  },
  {
   "cell_type": "markdown",
   "id": "7744f19c",
   "metadata": {},
   "source": [
    "### Checando registros de Sócios duplicados"
   ]
  },
  {
   "cell_type": "code",
   "execution_count": 23,
   "id": "fa978efe",
   "metadata": {},
   "outputs": [
    {
     "name": "stdout",
     "output_type": "stream",
     "text": [
      "Existem 2 registros duplicados\n"
     ]
    }
   ],
   "source": [
    "duplicates = df_socios.duplicated(keep=False).sum()\n",
    "\n",
    "if duplicates > 0:\n",
    "    print(f\"Existem {duplicates} registros duplicados\")\n",
    "else:\n",
    "    print(\"Não existem CNPJs duplicados\")"
   ]
  },
  {
   "cell_type": "markdown",
   "id": "99685279",
   "metadata": {},
   "source": [
    "### Checando % de Nulos"
   ]
  },
  {
   "cell_type": "code",
   "execution_count": 24,
   "id": "28f77c5b",
   "metadata": {},
   "outputs": [
    {
     "name": "stdout",
     "output_type": "stream",
     "text": [
      "cnpj                         0.00\n",
      "tipo_socio                   0.00\n",
      "nome_socio                   0.01\n",
      "documento_socio              0.06\n",
      "codigo_qualificacao_socio    0.00\n",
      "dtype: float64\n"
     ]
    }
   ],
   "source": [
    "null_percentage = (df_socios.isna().sum() / len(df_socios)) * 100\n",
    "print(null_percentage.round(2))"
   ]
  }
 ],
 "metadata": {
  "kernelspec": {
   "display_name": "venvrf",
   "language": "python",
   "name": "python3"
  },
  "language_info": {
   "codemirror_mode": {
    "name": "ipython",
    "version": 3
   },
   "file_extension": ".py",
   "mimetype": "text/x-python",
   "name": "python",
   "nbconvert_exporter": "python",
   "pygments_lexer": "ipython3",
   "version": "3.13.5"
  }
 },
 "nbformat": 4,
 "nbformat_minor": 5
}
