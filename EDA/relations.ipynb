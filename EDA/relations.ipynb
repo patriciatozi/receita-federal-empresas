{
 "cells": [
  {
   "cell_type": "markdown",
   "id": "e68bac89",
   "metadata": {},
   "source": [
    "# Import libraries"
   ]
  },
  {
   "cell_type": "code",
   "execution_count": 23,
   "id": "1e482731",
   "metadata": {},
   "outputs": [],
   "source": [
    "import pandas as pd\n",
    "from bs4 import BeautifulSoup\n",
    "import requests\n",
    "import zipfile\n",
    "import re\n",
    "import io"
   ]
  },
  {
   "cell_type": "markdown",
   "id": "f274d585",
   "metadata": {},
   "source": [
    "# Functions"
   ]
  },
  {
   "cell_type": "code",
   "execution_count": 24,
   "id": "22b877b2",
   "metadata": {},
   "outputs": [],
   "source": [
    "def get_response(url):\n",
    "\n",
    "    response = requests.get(url)\n",
    "    response.raise_for_status()\n",
    "\n",
    "    return response"
   ]
  },
  {
   "cell_type": "code",
   "execution_count": 25,
   "id": "c7a57963",
   "metadata": {},
   "outputs": [],
   "source": [
    "def get_compiled_pattern(response, pattern):\n",
    "\n",
    "    soup = BeautifulSoup(response.text, \"html.parser\")\n",
    "\n",
    "    return re.compile(pattern), soup"
   ]
  },
  {
   "cell_type": "code",
   "execution_count": 26,
   "id": "c45ce0b0",
   "metadata": {},
   "outputs": [],
   "source": [
    "def get_last_folder(url):\n",
    "\n",
    "    response = get_response(url)\n",
    "\n",
    "    pattern, soup = get_compiled_pattern(response, r\"^\\d{4}-\\d{2}/$\")\n",
    "\n",
    "    folders = [a[\"href\"].strip(\"/\") for a in soup.find_all(\"a\", href=pattern)]\n",
    "    last_folder = sorted(folders)[-1]\n",
    "\n",
    "    print(\"Última pasta encontrada:\", last_folder)\n",
    "\n",
    "    return last_folder"
   ]
  },
  {
   "cell_type": "code",
   "execution_count": null,
   "id": "d7f855df",
   "metadata": {},
   "outputs": [],
   "source": [
    "def get_source_data(\n",
    "    endpoint,\n",
    "    key,\n",
    "    file_columns,\n",
    "    file_dtypes\n",
    "):\n",
    "\n",
    "    last_updated_folder = get_last_folder(endpoint)\n",
    "\n",
    "    response_folder = get_response(endpoint + last_updated_folder + \"/\")\n",
    "\n",
    "    key_pattern, soup_folder = get_compiled_pattern(response_folder, r\"^{key}\\d+\\.zip$\".format(key=key))\n",
    "\n",
    "    files = [a[\"href\"] for a in soup_folder.find_all(\"a\", href=key_pattern)]\n",
    "    first_file = sorted(files, key=lambda x: int(re.search(r\"(\\d+)\", x).group()))[1]\n",
    "    print(\"Primeiro arquivo encontrado:\", first_file)\n",
    "\n",
    "    last_file = get_response(endpoint + last_updated_folder + \"/\" + first_file)\n",
    "\n",
    "    z = zipfile.ZipFile(io.BytesIO(last_file.content))\n",
    "\n",
    "    csv_name = z.namelist()[0]\n",
    "    print(\"Arquivo dentro do ZIP:\", csv_name)\n",
    "\n",
    "    df = pd.read_csv(\n",
    "        z.open(csv_name),\n",
    "        sep=\";\",\n",
    "        encoding=\"latin1\",\n",
    "        usecols=list(range(len(file_columns))),\n",
    "        names=file_columns,\n",
    "        dtype=file_dtypes,\n",
    "        header=None,\n",
    "        low_memory=False\n",
    "    )\n",
    "\n",
    "    print(\"Total de linhas:\", len(df))\n",
    "\n",
    "    return df    "
   ]
  },
  {
   "cell_type": "code",
   "execution_count": 28,
   "id": "1ebff1a5",
   "metadata": {},
   "outputs": [],
   "source": [
    "def check_for_duplicates(df):\n",
    "\n",
    "    duplicates = df.duplicated(keep=False).sum()\n",
    "\n",
    "    if duplicates > 0:\n",
    "        print(f\"Existem {duplicates} registros duplicados\")\n",
    "    else:\n",
    "        print(\"Não existem CNPJs duplicados\")"
   ]
  },
  {
   "cell_type": "markdown",
   "id": "fed12c65",
   "metadata": {},
   "source": [
    "# Read Data"
   ]
  },
  {
   "cell_type": "code",
   "execution_count": 29,
   "id": "2cefdf64",
   "metadata": {},
   "outputs": [],
   "source": [
    "endpoint = \"https://arquivos.receitafederal.gov.br/dados/cnpj/dados_abertos_cnpj/\""
   ]
  },
  {
   "cell_type": "markdown",
   "id": "effa793b",
   "metadata": {},
   "source": [
    "## Empresas"
   ]
  },
  {
   "cell_type": "code",
   "execution_count": 30,
   "id": "7b59b26c",
   "metadata": {},
   "outputs": [
    {
     "name": "stdout",
     "output_type": "stream",
     "text": [
      "Última pasta encontrada: 2025-09\n",
      "Primeiro arquivo encontrado: Empresas1.zip\n",
      "Arquivo dentro do ZIP: K3241.K03200Y1.D50913.EMPRECSV\n",
      "Total de linhas: 4494860\n"
     ]
    }
   ],
   "source": [
    "def get_empresas(endpoint):\n",
    "\n",
    "    company_columns = [\n",
    "        \"cnpj\",\n",
    "        \"razao_social\",\n",
    "        \"natureza_juridica\",\n",
    "        \"qualificacao_responsavel\",\n",
    "        \"capital_social\",\n",
    "        \"cod_porte\"\n",
    "    ]\n",
    "\n",
    "    company_dtypes = {\n",
    "        \"cnpj\": \"string\",\n",
    "        \"razao_social\": \"string\",\n",
    "        \"natureza_juridica\": \"Int64\", \n",
    "        \"qualificacao_responsavel\": \"Int64\",\n",
    "        \"capital_social\": \"string\",\n",
    "        \"cod_porte\": \"string\"\n",
    "    }\n",
    "\n",
    "    df_empresas = (\n",
    "        get_source_data(\n",
    "            endpoint,\n",
    "            \"Empresas\",\n",
    "            company_columns,\n",
    "            company_dtypes\n",
    "        )\n",
    "    )\n",
    "\n",
    "    return df_empresas\n",
    "\n",
    "\n",
    "df_empresas = get_empresas(endpoint)\n"
   ]
  },
  {
   "cell_type": "markdown",
   "id": "d7dd7255",
   "metadata": {},
   "source": [
    "## Sócios"
   ]
  },
  {
   "cell_type": "code",
   "execution_count": 31,
   "id": "3a036930",
   "metadata": {},
   "outputs": [
    {
     "name": "stdout",
     "output_type": "stream",
     "text": [
      "Última pasta encontrada: 2025-09\n",
      "Primeiro arquivo encontrado: Socios1.zip\n",
      "Arquivo dentro do ZIP: K3241.K03200Y1.D50913.SOCIOCSV\n",
      "Total de linhas: 2019150\n"
     ]
    }
   ],
   "source": [
    "def get_socios(endpoint):\n",
    "\n",
    "    partners_columns = [\n",
    "        \"cnpj\",\n",
    "        \"tipo_socio\",\n",
    "        \"nome_socio\",\n",
    "        \"documento_socio\",\n",
    "        \"codigo_qualificacao_socio\"\n",
    "    ]\n",
    "\n",
    "    partners_dtypes = {\n",
    "        \"cnpj\": \"string\",\n",
    "        \"tipo_socio\": \"Int64\",\n",
    "        \"nome_socio\": \"string\", \n",
    "        \"documento_socio\": \"string\",\n",
    "        \"codigo_qualificacao_socio\": \"string\"\n",
    "    }\n",
    "\n",
    "    df_socios = (\n",
    "        get_source_data(\n",
    "            endpoint,\n",
    "            \"Socios\",\n",
    "            partners_columns,\n",
    "            partners_dtypes\n",
    "        )\n",
    "    )\n",
    "\n",
    "    return df_socios\n",
    "\n",
    "\n",
    "df_socios = get_socios(endpoint)"
   ]
  },
  {
   "cell_type": "markdown",
   "id": "5decfde6",
   "metadata": {},
   "source": [
    "# Transform"
   ]
  },
  {
   "cell_type": "markdown",
   "id": "e5ef62ae",
   "metadata": {},
   "source": [
    "## Empresas"
   ]
  },
  {
   "cell_type": "code",
   "execution_count": 32,
   "id": "9d788f94",
   "metadata": {},
   "outputs": [
    {
     "name": "stdout",
     "output_type": "stream",
     "text": [
      "Não existem CNPJs duplicados\n"
     ]
    }
   ],
   "source": [
    "# Drop Duplicates\n",
    "df_empresas.drop_duplicates(inplace=True)\n",
    "\n",
    "check_for_duplicates(df_empresas)"
   ]
  },
  {
   "cell_type": "code",
   "execution_count": 33,
   "id": "6c133521",
   "metadata": {},
   "outputs": [],
   "source": [
    "# Alterar campo capita_social para float\n",
    "df_empresas[\"capital_social\"] = (\n",
    "    df_empresas[\"capital_social\"]\n",
    "    .str.replace(\".\", \"\", regex=False)   # remove pontos\n",
    "    .str.replace(\",\", \".\", regex=False)  # troca vírgula por ponto\n",
    "    .astype(float)                       # converte para float\n",
    ")"
   ]
  },
  {
   "cell_type": "markdown",
   "id": "708d28c5",
   "metadata": {},
   "source": [
    "## Sócios"
   ]
  },
  {
   "cell_type": "code",
   "execution_count": 34,
   "id": "a27cea01",
   "metadata": {},
   "outputs": [
    {
     "name": "stdout",
     "output_type": "stream",
     "text": [
      "Não existem CNPJs duplicados\n"
     ]
    }
   ],
   "source": [
    "# Drop Duplicates\n",
    "df_socios.drop_duplicates(inplace=True)\n",
    "\n",
    "check_for_duplicates(df_socios)"
   ]
  },
  {
   "cell_type": "code",
   "execution_count": 35,
   "id": "444beb07",
   "metadata": {},
   "outputs": [
    {
     "data": {
      "text/html": [
       "<div>\n",
       "<style scoped>\n",
       "    .dataframe tbody tr th:only-of-type {\n",
       "        vertical-align: middle;\n",
       "    }\n",
       "\n",
       "    .dataframe tbody tr th {\n",
       "        vertical-align: top;\n",
       "    }\n",
       "\n",
       "    .dataframe thead th {\n",
       "        text-align: right;\n",
       "    }\n",
       "</style>\n",
       "<table border=\"1\" class=\"dataframe\">\n",
       "  <thead>\n",
       "    <tr style=\"text-align: right;\">\n",
       "      <th></th>\n",
       "      <th>cnpj</th>\n",
       "      <th>tipo_socio</th>\n",
       "      <th>nome_socio</th>\n",
       "      <th>documento_socio</th>\n",
       "      <th>codigo_qualificacao_socio</th>\n",
       "    </tr>\n",
       "  </thead>\n",
       "  <tbody>\n",
       "    <tr>\n",
       "      <th>48931</th>\n",
       "      <td>00186210</td>\n",
       "      <td>2</td>\n",
       "      <td>&lt;NA&gt;</td>\n",
       "      <td>***467273**</td>\n",
       "      <td>16</td>\n",
       "    </tr>\n",
       "    <tr>\n",
       "      <th>57622</th>\n",
       "      <td>94583580</td>\n",
       "      <td>2</td>\n",
       "      <td>&lt;NA&gt;</td>\n",
       "      <td>***000000**</td>\n",
       "      <td>16</td>\n",
       "    </tr>\n",
       "    <tr>\n",
       "      <th>67434</th>\n",
       "      <td>94999851</td>\n",
       "      <td>2</td>\n",
       "      <td>&lt;NA&gt;</td>\n",
       "      <td>***000000**</td>\n",
       "      <td>16</td>\n",
       "    </tr>\n",
       "    <tr>\n",
       "      <th>98069</th>\n",
       "      <td>96758172</td>\n",
       "      <td>2</td>\n",
       "      <td>&lt;NA&gt;</td>\n",
       "      <td>***000000**</td>\n",
       "      <td>16</td>\n",
       "    </tr>\n",
       "    <tr>\n",
       "      <th>120731</th>\n",
       "      <td>00442603</td>\n",
       "      <td>2</td>\n",
       "      <td>&lt;NA&gt;</td>\n",
       "      <td>***160823**</td>\n",
       "      <td>16</td>\n",
       "    </tr>\n",
       "    <tr>\n",
       "      <th>...</th>\n",
       "      <td>...</td>\n",
       "      <td>...</td>\n",
       "      <td>...</td>\n",
       "      <td>...</td>\n",
       "      <td>...</td>\n",
       "    </tr>\n",
       "    <tr>\n",
       "      <th>918369</th>\n",
       "      <td>15038037</td>\n",
       "      <td>2</td>\n",
       "      <td>&lt;NA&gt;</td>\n",
       "      <td>***000000**</td>\n",
       "      <td>16</td>\n",
       "    </tr>\n",
       "    <tr>\n",
       "      <th>951697</th>\n",
       "      <td>65691743</td>\n",
       "      <td>2</td>\n",
       "      <td>&lt;NA&gt;</td>\n",
       "      <td>***000000**</td>\n",
       "      <td>16</td>\n",
       "    </tr>\n",
       "    <tr>\n",
       "      <th>951942</th>\n",
       "      <td>78493061</td>\n",
       "      <td>2</td>\n",
       "      <td>&lt;NA&gt;</td>\n",
       "      <td>***000000**</td>\n",
       "      <td>16</td>\n",
       "    </tr>\n",
       "    <tr>\n",
       "      <th>952031</th>\n",
       "      <td>11335429</td>\n",
       "      <td>2</td>\n",
       "      <td>&lt;NA&gt;</td>\n",
       "      <td>***000000**</td>\n",
       "      <td>16</td>\n",
       "    </tr>\n",
       "    <tr>\n",
       "      <th>952086</th>\n",
       "      <td>91103044</td>\n",
       "      <td>2</td>\n",
       "      <td>&lt;NA&gt;</td>\n",
       "      <td>***000000**</td>\n",
       "      <td>16</td>\n",
       "    </tr>\n",
       "  </tbody>\n",
       "</table>\n",
       "<p>192 rows × 5 columns</p>\n",
       "</div>"
      ],
      "text/plain": [
       "            cnpj  tipo_socio nome_socio documento_socio  \\\n",
       "48931   00186210           2       <NA>     ***467273**   \n",
       "57622   94583580           2       <NA>     ***000000**   \n",
       "67434   94999851           2       <NA>     ***000000**   \n",
       "98069   96758172           2       <NA>     ***000000**   \n",
       "120731  00442603           2       <NA>     ***160823**   \n",
       "...          ...         ...        ...             ...   \n",
       "918369  15038037           2       <NA>     ***000000**   \n",
       "951697  65691743           2       <NA>     ***000000**   \n",
       "951942  78493061           2       <NA>     ***000000**   \n",
       "952031  11335429           2       <NA>     ***000000**   \n",
       "952086  91103044           2       <NA>     ***000000**   \n",
       "\n",
       "       codigo_qualificacao_socio  \n",
       "48931                         16  \n",
       "57622                         16  \n",
       "67434                         16  \n",
       "98069                         16  \n",
       "120731                        16  \n",
       "...                          ...  \n",
       "918369                        16  \n",
       "951697                        16  \n",
       "951942                        16  \n",
       "952031                        16  \n",
       "952086                        16  \n",
       "\n",
       "[192 rows x 5 columns]"
      ]
     },
     "execution_count": 35,
     "metadata": {},
     "output_type": "execute_result"
    }
   ],
   "source": [
    "# Check Null values for nome_socio\n",
    "df_socios[df_socios[\"nome_socio\"].isna()]"
   ]
  },
  {
   "cell_type": "code",
   "execution_count": 36,
   "id": "a133b686",
   "metadata": {},
   "outputs": [
    {
     "data": {
      "text/html": [
       "<div>\n",
       "<style scoped>\n",
       "    .dataframe tbody tr th:only-of-type {\n",
       "        vertical-align: middle;\n",
       "    }\n",
       "\n",
       "    .dataframe tbody tr th {\n",
       "        vertical-align: top;\n",
       "    }\n",
       "\n",
       "    .dataframe thead th {\n",
       "        text-align: right;\n",
       "    }\n",
       "</style>\n",
       "<table border=\"1\" class=\"dataframe\">\n",
       "  <thead>\n",
       "    <tr style=\"text-align: right;\">\n",
       "      <th></th>\n",
       "      <th>cnpj</th>\n",
       "      <th>tipo_socio</th>\n",
       "      <th>nome_socio</th>\n",
       "      <th>documento_socio</th>\n",
       "      <th>codigo_qualificacao_socio</th>\n",
       "    </tr>\n",
       "  </thead>\n",
       "  <tbody>\n",
       "    <tr>\n",
       "      <th>57622</th>\n",
       "      <td>94583580</td>\n",
       "      <td>2</td>\n",
       "      <td>&lt;NA&gt;</td>\n",
       "      <td>***000000**</td>\n",
       "      <td>16</td>\n",
       "    </tr>\n",
       "    <tr>\n",
       "      <th>67434</th>\n",
       "      <td>94999851</td>\n",
       "      <td>2</td>\n",
       "      <td>&lt;NA&gt;</td>\n",
       "      <td>***000000**</td>\n",
       "      <td>16</td>\n",
       "    </tr>\n",
       "    <tr>\n",
       "      <th>98069</th>\n",
       "      <td>96758172</td>\n",
       "      <td>2</td>\n",
       "      <td>&lt;NA&gt;</td>\n",
       "      <td>***000000**</td>\n",
       "      <td>16</td>\n",
       "    </tr>\n",
       "    <tr>\n",
       "      <th>141740</th>\n",
       "      <td>02146231</td>\n",
       "      <td>2</td>\n",
       "      <td>&lt;NA&gt;</td>\n",
       "      <td>***000000**</td>\n",
       "      <td>16</td>\n",
       "    </tr>\n",
       "    <tr>\n",
       "      <th>154181</th>\n",
       "      <td>00576411</td>\n",
       "      <td>2</td>\n",
       "      <td>&lt;NA&gt;</td>\n",
       "      <td>***000000**</td>\n",
       "      <td>16</td>\n",
       "    </tr>\n",
       "    <tr>\n",
       "      <th>...</th>\n",
       "      <td>...</td>\n",
       "      <td>...</td>\n",
       "      <td>...</td>\n",
       "      <td>...</td>\n",
       "      <td>...</td>\n",
       "    </tr>\n",
       "    <tr>\n",
       "      <th>951697</th>\n",
       "      <td>65691743</td>\n",
       "      <td>2</td>\n",
       "      <td>&lt;NA&gt;</td>\n",
       "      <td>***000000**</td>\n",
       "      <td>16</td>\n",
       "    </tr>\n",
       "    <tr>\n",
       "      <th>951942</th>\n",
       "      <td>78493061</td>\n",
       "      <td>2</td>\n",
       "      <td>&lt;NA&gt;</td>\n",
       "      <td>***000000**</td>\n",
       "      <td>16</td>\n",
       "    </tr>\n",
       "    <tr>\n",
       "      <th>952031</th>\n",
       "      <td>11335429</td>\n",
       "      <td>2</td>\n",
       "      <td>&lt;NA&gt;</td>\n",
       "      <td>***000000**</td>\n",
       "      <td>16</td>\n",
       "    </tr>\n",
       "    <tr>\n",
       "      <th>952086</th>\n",
       "      <td>91103044</td>\n",
       "      <td>2</td>\n",
       "      <td>&lt;NA&gt;</td>\n",
       "      <td>***000000**</td>\n",
       "      <td>16</td>\n",
       "    </tr>\n",
       "    <tr>\n",
       "      <th>1585162</th>\n",
       "      <td>24939618</td>\n",
       "      <td>2</td>\n",
       "      <td>BRUNA LOUREIRO DE MENEZES</td>\n",
       "      <td>***000000**</td>\n",
       "      <td>22</td>\n",
       "    </tr>\n",
       "  </tbody>\n",
       "</table>\n",
       "<p>100 rows × 5 columns</p>\n",
       "</div>"
      ],
      "text/plain": [
       "             cnpj  tipo_socio                 nome_socio documento_socio  \\\n",
       "57622    94583580           2                       <NA>     ***000000**   \n",
       "67434    94999851           2                       <NA>     ***000000**   \n",
       "98069    96758172           2                       <NA>     ***000000**   \n",
       "141740   02146231           2                       <NA>     ***000000**   \n",
       "154181   00576411           2                       <NA>     ***000000**   \n",
       "...           ...         ...                        ...             ...   \n",
       "951697   65691743           2                       <NA>     ***000000**   \n",
       "951942   78493061           2                       <NA>     ***000000**   \n",
       "952031   11335429           2                       <NA>     ***000000**   \n",
       "952086   91103044           2                       <NA>     ***000000**   \n",
       "1585162  24939618           2  BRUNA LOUREIRO DE MENEZES     ***000000**   \n",
       "\n",
       "        codigo_qualificacao_socio  \n",
       "57622                          16  \n",
       "67434                          16  \n",
       "98069                          16  \n",
       "141740                         16  \n",
       "154181                         16  \n",
       "...                           ...  \n",
       "951697                         16  \n",
       "951942                         16  \n",
       "952031                         16  \n",
       "952086                         16  \n",
       "1585162                        22  \n",
       "\n",
       "[100 rows x 5 columns]"
      ]
     },
     "execution_count": 36,
     "metadata": {},
     "output_type": "execute_result"
    }
   ],
   "source": [
    "# Check Null values como dummies for documento_socio\n",
    "df_socios[df_socios[\"documento_socio\"] == \"***000000**\"]"
   ]
  },
  {
   "cell_type": "code",
   "execution_count": 37,
   "id": "1ea37cf4",
   "metadata": {},
   "outputs": [],
   "source": [
    "# Removendo socios sem identificaçao\n",
    "df_socios = df_socios[\n",
    "    ~(\n",
    "        ((df_socios[\"nome_socio\"].isna()) & (df_socios[\"documento_socio\"].isna())) |\n",
    "        ((df_socios[\"nome_socio\"].isna()) & (df_socios[\"documento_socio\"] == \"***000000**\"))\n",
    "    )\n",
    "].copy()"
   ]
  },
  {
   "cell_type": "code",
   "execution_count": 38,
   "id": "bbebabf3",
   "metadata": {},
   "outputs": [
    {
     "data": {
      "text/html": [
       "<div>\n",
       "<style scoped>\n",
       "    .dataframe tbody tr th:only-of-type {\n",
       "        vertical-align: middle;\n",
       "    }\n",
       "\n",
       "    .dataframe tbody tr th {\n",
       "        vertical-align: top;\n",
       "    }\n",
       "\n",
       "    .dataframe thead th {\n",
       "        text-align: right;\n",
       "    }\n",
       "</style>\n",
       "<table border=\"1\" class=\"dataframe\">\n",
       "  <thead>\n",
       "    <tr style=\"text-align: right;\">\n",
       "      <th></th>\n",
       "      <th>cnpj</th>\n",
       "      <th>tipo_socio</th>\n",
       "      <th>nome_socio</th>\n",
       "      <th>documento_socio</th>\n",
       "      <th>codigo_qualificacao_socio</th>\n",
       "      <th>flag_socio_estrangeiro</th>\n",
       "    </tr>\n",
       "  </thead>\n",
       "  <tbody>\n",
       "  </tbody>\n",
       "</table>\n",
       "</div>"
      ],
      "text/plain": [
       "Empty DataFrame\n",
       "Columns: [cnpj, tipo_socio, nome_socio, documento_socio, codigo_qualificacao_socio, flag_socio_estrangeiro]\n",
       "Index: []"
      ]
     },
     "execution_count": 38,
     "metadata": {},
     "output_type": "execute_result"
    }
   ],
   "source": [
    "# Create foreigner flag\n",
    "df_socios[\"flag_socio_estrangeiro\"] = (\n",
    "    df_socios[\"documento_socio\"]\n",
    "    .fillna(\"\")  # substitui NA por string vazia\n",
    "    .eq(\"***999999**\")  # compara com o valor desejado\n",
    "    .astype(int)  # converte True/False para 1/0\n",
    ")\n",
    "\n",
    "# Checando se funcionou\n",
    "df_socios[(df_socios[\"flag_socio_estrangeiro\"] == 1) & (df_socios[\"documento_socio\"] != \"***999999**\")]"
   ]
  },
  {
   "cell_type": "code",
   "execution_count": 39,
   "id": "17856fbd",
   "metadata": {},
   "outputs": [
    {
     "name": "stdout",
     "output_type": "stream",
     "text": [
      "<class 'pandas.core.frame.DataFrame'>\n",
      "Index: 2019054 entries, 0 to 2019149\n",
      "Data columns (total 6 columns):\n",
      " #   Column                     Dtype \n",
      "---  ------                     ----- \n",
      " 0   cnpj                       string\n",
      " 1   tipo_socio                 Int64 \n",
      " 2   nome_socio                 string\n",
      " 3   documento_socio            string\n",
      " 4   codigo_qualificacao_socio  string\n",
      " 5   flag_socio_estrangeiro     int64 \n",
      "dtypes: Int64(1), int64(1), string(4)\n",
      "memory usage: 109.8 MB\n"
     ]
    }
   ],
   "source": [
    "df_socios.info()"
   ]
  },
  {
   "cell_type": "code",
   "execution_count": null,
   "id": "7c426d89",
   "metadata": {},
   "outputs": [],
   "source": [
    "# Agrupando por CNPJ qtde_socios e qtd_estrangeiros\n",
    "df_socios_processed = df_socios.groupby(\"cnpj\", dropna=False).agg(\n",
    "    qtde_socios=(\"documento_socio\", \"count\"),           # total de sócios\n",
    "    qtd_estrangeiros=(\"flag_socio_estrangeiro\", \"sum\") # total de estrangeiros\n",
    ").reset_index()"
   ]
  },
  {
   "cell_type": "code",
   "execution_count": 41,
   "id": "c27215a8",
   "metadata": {},
   "outputs": [
    {
     "name": "stdout",
     "output_type": "stream",
     "text": [
      "<class 'pandas.core.frame.DataFrame'>\n",
      "RangeIndex: 1101888 entries, 0 to 1101887\n",
      "Data columns (total 3 columns):\n",
      " #   Column            Non-Null Count    Dtype \n",
      "---  ------            --------------    ----- \n",
      " 0   cnpj              1101888 non-null  string\n",
      " 1   qtd_socios        1101888 non-null  int64 \n",
      " 2   qtd_estrangeiros  1101888 non-null  int64 \n",
      "dtypes: int64(2), string(1)\n",
      "memory usage: 25.2 MB\n"
     ]
    }
   ],
   "source": [
    "df_socios_processed.info()"
   ]
  },
  {
   "cell_type": "markdown",
   "id": "daaeaf5c",
   "metadata": {},
   "source": [
    "# Relations"
   ]
  },
  {
   "cell_type": "code",
   "execution_count": 42,
   "id": "1122bb2d",
   "metadata": {},
   "outputs": [],
   "source": [
    "df_result = (\n",
    "    ((df_empresas[[\"cnpj\", \"cod_porte\"]]).drop_duplicates())\n",
    "    .merge(\n",
    "        df_socios_processed.drop_duplicates(),\n",
    "        \"inner\",\n",
    "        \"cnpj\"\n",
    "    )\n",
    ")"
   ]
  },
  {
   "cell_type": "code",
   "execution_count": null,
   "id": "4be71e33",
   "metadata": {},
   "outputs": [],
   "source": [
    "df_result[\"doc_alvo\"] = df_result.apply(\n",
    "    lambda row: True if row[\"cod_porte\"] == \"03\" and row[\"qtde_socios\"] > 1 else False,\n",
    "    axis=1\n",
    ")"
   ]
  },
  {
   "cell_type": "code",
   "execution_count": 44,
   "id": "26509e09",
   "metadata": {},
   "outputs": [],
   "source": [
    "# Criar flag booleana: True se qtd_estrangeiros > 0, False caso contrário\n",
    "df_result[\"flag_socio_estrangeiro\"] = df_result[\"qtd_estrangeiros\"] > 0"
   ]
  },
  {
   "cell_type": "code",
   "execution_count": null,
   "id": "8d9e39ce",
   "metadata": {},
   "outputs": [],
   "source": [
    "df_result = df_result[[\"cnpj\", \"qtde_socios\", \"flag_socio_estrangeiro\", \"doc_alvo\"]].drop_duplicates()"
   ]
  },
  {
   "cell_type": "markdown",
   "id": "25c8fef1",
   "metadata": {},
   "source": [
    "## DF final"
   ]
  },
  {
   "cell_type": "code",
   "execution_count": 46,
   "id": "5d9f76bd",
   "metadata": {},
   "outputs": [
    {
     "data": {
      "text/html": [
       "<div>\n",
       "<style scoped>\n",
       "    .dataframe tbody tr th:only-of-type {\n",
       "        vertical-align: middle;\n",
       "    }\n",
       "\n",
       "    .dataframe tbody tr th {\n",
       "        vertical-align: top;\n",
       "    }\n",
       "\n",
       "    .dataframe thead th {\n",
       "        text-align: right;\n",
       "    }\n",
       "</style>\n",
       "<table border=\"1\" class=\"dataframe\">\n",
       "  <thead>\n",
       "    <tr style=\"text-align: right;\">\n",
       "      <th></th>\n",
       "      <th>cnpj</th>\n",
       "      <th>qtd_socios</th>\n",
       "      <th>flag_socio_estrangeiro</th>\n",
       "      <th>doc_alvo</th>\n",
       "    </tr>\n",
       "  </thead>\n",
       "  <tbody>\n",
       "    <tr>\n",
       "      <th>0</th>\n",
       "      <td>00000006</td>\n",
       "      <td>1</td>\n",
       "      <td>False</td>\n",
       "      <td>False</td>\n",
       "    </tr>\n",
       "    <tr>\n",
       "      <th>1</th>\n",
       "      <td>00000007</td>\n",
       "      <td>2</td>\n",
       "      <td>False</td>\n",
       "      <td>False</td>\n",
       "    </tr>\n",
       "    <tr>\n",
       "      <th>2</th>\n",
       "      <td>00000081</td>\n",
       "      <td>1</td>\n",
       "      <td>False</td>\n",
       "      <td>False</td>\n",
       "    </tr>\n",
       "    <tr>\n",
       "      <th>3</th>\n",
       "      <td>00000084</td>\n",
       "      <td>2</td>\n",
       "      <td>False</td>\n",
       "      <td>False</td>\n",
       "    </tr>\n",
       "    <tr>\n",
       "      <th>4</th>\n",
       "      <td>00000092</td>\n",
       "      <td>2</td>\n",
       "      <td>False</td>\n",
       "      <td>False</td>\n",
       "    </tr>\n",
       "    <tr>\n",
       "      <th>...</th>\n",
       "      <td>...</td>\n",
       "      <td>...</td>\n",
       "      <td>...</td>\n",
       "      <td>...</td>\n",
       "    </tr>\n",
       "    <tr>\n",
       "      <th>206386</th>\n",
       "      <td>04631835</td>\n",
       "      <td>2</td>\n",
       "      <td>False</td>\n",
       "      <td>False</td>\n",
       "    </tr>\n",
       "    <tr>\n",
       "      <th>206387</th>\n",
       "      <td>04631846</td>\n",
       "      <td>2</td>\n",
       "      <td>False</td>\n",
       "      <td>False</td>\n",
       "    </tr>\n",
       "    <tr>\n",
       "      <th>206388</th>\n",
       "      <td>04631849</td>\n",
       "      <td>2</td>\n",
       "      <td>False</td>\n",
       "      <td>False</td>\n",
       "    </tr>\n",
       "    <tr>\n",
       "      <th>206389</th>\n",
       "      <td>04631871</td>\n",
       "      <td>1</td>\n",
       "      <td>False</td>\n",
       "      <td>False</td>\n",
       "    </tr>\n",
       "    <tr>\n",
       "      <th>206390</th>\n",
       "      <td>04631954</td>\n",
       "      <td>3</td>\n",
       "      <td>False</td>\n",
       "      <td>False</td>\n",
       "    </tr>\n",
       "  </tbody>\n",
       "</table>\n",
       "<p>206391 rows × 4 columns</p>\n",
       "</div>"
      ],
      "text/plain": [
       "            cnpj  qtd_socios  flag_socio_estrangeiro  doc_alvo\n",
       "0       00000006           1                   False     False\n",
       "1       00000007           2                   False     False\n",
       "2       00000081           1                   False     False\n",
       "3       00000084           2                   False     False\n",
       "4       00000092           2                   False     False\n",
       "...          ...         ...                     ...       ...\n",
       "206386  04631835           2                   False     False\n",
       "206387  04631846           2                   False     False\n",
       "206388  04631849           2                   False     False\n",
       "206389  04631871           1                   False     False\n",
       "206390  04631954           3                   False     False\n",
       "\n",
       "[206391 rows x 4 columns]"
      ]
     },
     "execution_count": 46,
     "metadata": {},
     "output_type": "execute_result"
    }
   ],
   "source": [
    "df_result"
   ]
  },
  {
   "cell_type": "code",
   "execution_count": 47,
   "id": "15a1f602",
   "metadata": {},
   "outputs": [
    {
     "name": "stdout",
     "output_type": "stream",
     "text": [
      "Não existem CNPJs duplicados\n"
     ]
    }
   ],
   "source": [
    "# Checando duplicados\n",
    "duplicates = df_result[\"cnpj\"].duplicated(keep=False).sum()\n",
    "\n",
    "if duplicates > 0:\n",
    "    print(f\"Existem {duplicates} registros duplicados\")\n",
    "else:\n",
    "    print(\"Não existem CNPJs duplicados\")"
   ]
  },
  {
   "cell_type": "code",
   "execution_count": 48,
   "id": "36e385b1",
   "metadata": {},
   "outputs": [
    {
     "name": "stdout",
     "output_type": "stream",
     "text": [
      "cnpj                      0.0\n",
      "qtd_socios                0.0\n",
      "flag_socio_estrangeiro    0.0\n",
      "doc_alvo                  0.0\n",
      "dtype: float64\n"
     ]
    }
   ],
   "source": [
    "# Checando nulos\n",
    "null_percentage = (df_result.isna().sum() / len(df_result)) * 100\n",
    "print(null_percentage.round(2))"
   ]
  },
  {
   "cell_type": "markdown",
   "id": "d5dcf136",
   "metadata": {},
   "source": [
    "# Data Quality"
   ]
  },
  {
   "cell_type": "code",
   "execution_count": 59,
   "id": "d9aacdff",
   "metadata": {},
   "outputs": [],
   "source": [
    "import pandera as pa\n",
    "from pandera import Column, DataFrameSchema, Check"
   ]
  },
  {
   "cell_type": "code",
   "execution_count": null,
   "id": "fd035665",
   "metadata": {},
   "outputs": [
    {
     "name": "stdout",
     "output_type": "stream",
     "text": [
      "ok\n"
     ]
    }
   ],
   "source": [
    "table = \"silver_companies\"\n",
    "\n",
    "schema = DataFrameSchema({\n",
    "        \"cnpj\": Column(str, unique=True, nullable=False),\n",
    "        \"cod_porte\": Column(str, checks=Check.isin([\"00\", \"01\", \"03\", \"05\"])),\n",
    "        \"natureza_juridica\": Column(int, checks=Check.in_range(1011, 9999), nullable=False)\n",
    "    })\n",
    "\n",
    "try:\n",
    "    schema.validate(df_empresas, lazy=True)\n",
    "    print(\"ok\")\n",
    "except pa.errors.SchemaErrors as err:\n",
    "    raise Exception(f\"❌ Data Quality falhou para {table}:\\n{err.failure_cases}\")\n"
   ]
  }
 ],
 "metadata": {
  "kernelspec": {
   "display_name": "rfenv",
   "language": "python",
   "name": "python3"
  },
  "language_info": {
   "codemirror_mode": {
    "name": "ipython",
    "version": 3
   },
   "file_extension": ".py",
   "mimetype": "text/x-python",
   "name": "python",
   "nbconvert_exporter": "python",
   "pygments_lexer": "ipython3",
   "version": "3.13.5"
  }
 },
 "nbformat": 4,
 "nbformat_minor": 5
}
