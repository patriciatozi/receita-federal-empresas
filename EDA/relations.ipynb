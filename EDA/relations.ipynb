{
 "cells": [
  {
   "cell_type": "markdown",
   "id": "e68bac89",
   "metadata": {},
   "source": [
    "# Import libraries"
   ]
  },
  {
   "cell_type": "code",
   "execution_count": 1,
   "id": "1e482731",
   "metadata": {},
   "outputs": [],
   "source": [
    "import pandas as pd\n",
    "from bs4 import BeautifulSoup\n",
    "import requests\n",
    "import zipfile\n",
    "import re\n",
    "import io"
   ]
  },
  {
   "cell_type": "markdown",
   "id": "f274d585",
   "metadata": {},
   "source": [
    "# Functions"
   ]
  },
  {
   "cell_type": "code",
   "execution_count": 2,
   "id": "22b877b2",
   "metadata": {},
   "outputs": [],
   "source": [
    "def get_response(url):\n",
    "\n",
    "    response = requests.get(url)\n",
    "    response.raise_for_status()\n",
    "\n",
    "    return response"
   ]
  },
  {
   "cell_type": "code",
   "execution_count": 3,
   "id": "c7a57963",
   "metadata": {},
   "outputs": [],
   "source": [
    "def get_compiled_pattern(response, pattern):\n",
    "\n",
    "    soup = BeautifulSoup(response.text, \"html.parser\")\n",
    "\n",
    "    return re.compile(pattern), soup"
   ]
  },
  {
   "cell_type": "code",
   "execution_count": 4,
   "id": "c45ce0b0",
   "metadata": {},
   "outputs": [],
   "source": [
    "def get_last_folder(url):\n",
    "\n",
    "    response = get_response(url)\n",
    "\n",
    "    pattern, soup = get_compiled_pattern(response, r\"^\\d{4}-\\d{2}/$\")\n",
    "\n",
    "    folders = [a[\"href\"].strip(\"/\") for a in soup.find_all(\"a\", href=pattern)]\n",
    "    last_folder = sorted(folders)[-1]\n",
    "\n",
    "    print(\"Última pasta encontrada:\", last_folder)\n",
    "\n",
    "    return last_folder"
   ]
  },
  {
   "cell_type": "code",
   "execution_count": 5,
   "id": "d7f855df",
   "metadata": {},
   "outputs": [],
   "source": [
    "def get_source_data(\n",
    "    endpoint,\n",
    "    key,\n",
    "    file_columns,\n",
    "    file_dtypes\n",
    "):\n",
    "\n",
    "    last_updated_folder = get_last_folder(endpoint)\n",
    "\n",
    "    response_folder = get_response(endpoint + last_updated_folder + \"/\")\n",
    "\n",
    "    key_pattern, soup_folder = get_compiled_pattern(response_folder, r\"^{key}\\d+\\.zip$\".format(key=key))\n",
    "\n",
    "    files = [a[\"href\"] for a in soup_folder.find_all(\"a\", href=key_pattern)]\n",
    "    first_file = sorted(files, key=lambda x: int(re.search(r\"(\\d+)\", x).group()))[0]\n",
    "    print(\"Primeiro arquivo encontrado:\", first_file)\n",
    "\n",
    "    last_file = get_response(endpoint + last_updated_folder + \"/\" + first_file)\n",
    "\n",
    "    z = zipfile.ZipFile(io.BytesIO(last_file.content))\n",
    "\n",
    "    csv_name = z.namelist()[0]  # pega o primeiro arquivo dentro do zip\n",
    "    print(\"Arquivo dentro do ZIP:\", csv_name)\n",
    "\n",
    "    df = pd.read_csv(\n",
    "        z.open(csv_name),\n",
    "        sep=\";\",\n",
    "        encoding=\"latin1\",\n",
    "        usecols=list(range(len(file_columns))),\n",
    "        names=file_columns,\n",
    "        dtype=file_dtypes,\n",
    "        header=None,\n",
    "        low_memory=False\n",
    "    )\n",
    "\n",
    "    print(\"Total de linhas:\", len(df))\n",
    "\n",
    "    return df    "
   ]
  },
  {
   "cell_type": "code",
   "execution_count": 6,
   "id": "1ebff1a5",
   "metadata": {},
   "outputs": [],
   "source": [
    "def check_for_duplicates(df):\n",
    "\n",
    "    duplicates = df.duplicated(keep=False).sum()\n",
    "\n",
    "    if duplicates > 0:\n",
    "        print(f\"Existem {duplicates} registros duplicados\")\n",
    "    else:\n",
    "        print(\"Não existem CNPJs duplicados\")"
   ]
  },
  {
   "cell_type": "markdown",
   "id": "fed12c65",
   "metadata": {},
   "source": [
    "# Read Data"
   ]
  },
  {
   "cell_type": "code",
   "execution_count": 7,
   "id": "2cefdf64",
   "metadata": {},
   "outputs": [],
   "source": [
    "endpoint = \"https://arquivos.receitafederal.gov.br/dados/cnpj/dados_abertos_cnpj/\""
   ]
  },
  {
   "cell_type": "markdown",
   "id": "effa793b",
   "metadata": {},
   "source": [
    "## Empresas"
   ]
  },
  {
   "cell_type": "code",
   "execution_count": 8,
   "id": "7b59b26c",
   "metadata": {},
   "outputs": [
    {
     "name": "stdout",
     "output_type": "stream",
     "text": [
      "Última pasta encontrada: 2025-08\n",
      "Primeiro arquivo encontrado: Empresas0.zip\n",
      "Arquivo dentro do ZIP: K3241.K03200Y0.D50809.EMPRECSV\n",
      "Total de linhas: 23537416\n"
     ]
    }
   ],
   "source": [
    "def get_empresas(endpoint):\n",
    "\n",
    "    company_columns = [\n",
    "        \"cnpj\",\n",
    "        \"razao_social\",\n",
    "        \"natureza_juridica\",\n",
    "        \"qualificacao_responsavel\",\n",
    "        \"capital_social\",\n",
    "        \"cod_porte\"\n",
    "    ]\n",
    "\n",
    "    company_dtypes = {\n",
    "        \"cnpj\": \"string\",\n",
    "        \"razao_social\": \"string\",\n",
    "        \"natureza_juridica\": \"Int64\", \n",
    "        \"qualificacao_responsavel\": \"Int64\",\n",
    "        \"capital_social\": \"string\",\n",
    "        \"cod_porte\": \"string\"\n",
    "    }\n",
    "\n",
    "    df_empresas = (\n",
    "        get_source_data(\n",
    "            endpoint,\n",
    "            \"Empresas\",\n",
    "            company_columns,\n",
    "            company_dtypes\n",
    "        )\n",
    "    )\n",
    "\n",
    "    return df_empresas\n",
    "\n",
    "\n",
    "df_empresas = get_empresas(endpoint)\n"
   ]
  },
  {
   "cell_type": "markdown",
   "id": "d7dd7255",
   "metadata": {},
   "source": [
    "## Sócios"
   ]
  },
  {
   "cell_type": "code",
   "execution_count": 9,
   "id": "3a036930",
   "metadata": {},
   "outputs": [
    {
     "name": "stdout",
     "output_type": "stream",
     "text": [
      "Última pasta encontrada: 2025-08\n",
      "Primeiro arquivo encontrado: Socios0.zip\n",
      "Arquivo dentro do ZIP: K3241.K03200Y0.D50809.SOCIOCSV\n",
      "Total de linhas: 8024952\n"
     ]
    }
   ],
   "source": [
    "def get_socios(endpoint):\n",
    "\n",
    "    partners_columns = [\n",
    "        \"cnpj\",\n",
    "        \"tipo_socio\",\n",
    "        \"nome_socio\",\n",
    "        \"documento_socio\",\n",
    "        \"codigo_qualificacao_socio\"\n",
    "    ]\n",
    "\n",
    "    partners_dtypes = {\n",
    "        \"cnpj\": \"string\",\n",
    "        \"tipo_socio\": \"Int64\",\n",
    "        \"nome_socio\": \"string\", \n",
    "        \"documento_socio\": \"string\",\n",
    "        \"codigo_qualificacao_socio\": \"string\"\n",
    "    }\n",
    "\n",
    "    df_socios = (\n",
    "        get_source_data(\n",
    "            endpoint,\n",
    "            \"Socios\",\n",
    "            partners_columns,\n",
    "            partners_dtypes\n",
    "        )\n",
    "    )\n",
    "\n",
    "    return df_socios\n",
    "\n",
    "\n",
    "df_socios = get_socios(endpoint)"
   ]
  },
  {
   "cell_type": "markdown",
   "id": "5decfde6",
   "metadata": {},
   "source": [
    "# Transform"
   ]
  },
  {
   "cell_type": "markdown",
   "id": "e5ef62ae",
   "metadata": {},
   "source": [
    "## Empresas"
   ]
  },
  {
   "cell_type": "code",
   "execution_count": 10,
   "id": "9d788f94",
   "metadata": {},
   "outputs": [
    {
     "name": "stdout",
     "output_type": "stream",
     "text": [
      "Não existem CNPJs duplicados\n"
     ]
    }
   ],
   "source": [
    "# Drop Duplicates\n",
    "df_empresas.drop_duplicates(inplace=True)\n",
    "\n",
    "check_for_duplicates(df_empresas)"
   ]
  },
  {
   "cell_type": "code",
   "execution_count": 11,
   "id": "6c133521",
   "metadata": {},
   "outputs": [],
   "source": [
    "# Alterar campo capita_social para float\n",
    "df_empresas[\"capital_social\"] = (\n",
    "    df_empresas[\"capital_social\"]\n",
    "    .str.replace(\".\", \"\", regex=False)   # remove pontos\n",
    "    .str.replace(\",\", \".\", regex=False)  # troca vírgula por ponto\n",
    "    .astype(float)                       # converte para float\n",
    ")"
   ]
  },
  {
   "cell_type": "markdown",
   "id": "708d28c5",
   "metadata": {},
   "source": [
    "## Sócios"
   ]
  },
  {
   "cell_type": "code",
   "execution_count": 12,
   "id": "a27cea01",
   "metadata": {},
   "outputs": [
    {
     "name": "stdout",
     "output_type": "stream",
     "text": [
      "Não existem CNPJs duplicados\n"
     ]
    }
   ],
   "source": [
    "# Drop Duplicates\n",
    "df_socios.drop_duplicates(inplace=True)\n",
    "\n",
    "check_for_duplicates(df_socios)"
   ]
  },
  {
   "cell_type": "code",
   "execution_count": 13,
   "id": "444beb07",
   "metadata": {},
   "outputs": [
    {
     "data": {
      "text/html": [
       "<div>\n",
       "<style scoped>\n",
       "    .dataframe tbody tr th:only-of-type {\n",
       "        vertical-align: middle;\n",
       "    }\n",
       "\n",
       "    .dataframe tbody tr th {\n",
       "        vertical-align: top;\n",
       "    }\n",
       "\n",
       "    .dataframe thead th {\n",
       "        text-align: right;\n",
       "    }\n",
       "</style>\n",
       "<table border=\"1\" class=\"dataframe\">\n",
       "  <thead>\n",
       "    <tr style=\"text-align: right;\">\n",
       "      <th></th>\n",
       "      <th>cnpj</th>\n",
       "      <th>tipo_socio</th>\n",
       "      <th>nome_socio</th>\n",
       "      <th>documento_socio</th>\n",
       "      <th>codigo_qualificacao_socio</th>\n",
       "    </tr>\n",
       "  </thead>\n",
       "  <tbody>\n",
       "    <tr>\n",
       "      <th>193222</th>\n",
       "      <td>93316370</td>\n",
       "      <td>2</td>\n",
       "      <td>&lt;NA&gt;</td>\n",
       "      <td>***000000**</td>\n",
       "      <td>16</td>\n",
       "    </tr>\n",
       "    <tr>\n",
       "      <th>199243</th>\n",
       "      <td>93536100</td>\n",
       "      <td>2</td>\n",
       "      <td>&lt;NA&gt;</td>\n",
       "      <td>***000000**</td>\n",
       "      <td>16</td>\n",
       "    </tr>\n",
       "    <tr>\n",
       "      <th>199519</th>\n",
       "      <td>00116136</td>\n",
       "      <td>2</td>\n",
       "      <td>&lt;NA&gt;</td>\n",
       "      <td>***000000**</td>\n",
       "      <td>16</td>\n",
       "    </tr>\n",
       "    <tr>\n",
       "      <th>200919</th>\n",
       "      <td>93594539</td>\n",
       "      <td>2</td>\n",
       "      <td>&lt;NA&gt;</td>\n",
       "      <td>***186130**</td>\n",
       "      <td>16</td>\n",
       "    </tr>\n",
       "    <tr>\n",
       "      <th>202878</th>\n",
       "      <td>00127405</td>\n",
       "      <td>2</td>\n",
       "      <td>&lt;NA&gt;</td>\n",
       "      <td>***155103**</td>\n",
       "      <td>16</td>\n",
       "    </tr>\n",
       "    <tr>\n",
       "      <th>...</th>\n",
       "      <td>...</td>\n",
       "      <td>...</td>\n",
       "      <td>...</td>\n",
       "      <td>...</td>\n",
       "      <td>...</td>\n",
       "    </tr>\n",
       "    <tr>\n",
       "      <th>6319273</th>\n",
       "      <td>51848851</td>\n",
       "      <td>2</td>\n",
       "      <td>&lt;NA&gt;</td>\n",
       "      <td>***000000**</td>\n",
       "      <td>16</td>\n",
       "    </tr>\n",
       "    <tr>\n",
       "      <th>6332915</th>\n",
       "      <td>03968617</td>\n",
       "      <td>2</td>\n",
       "      <td>&lt;NA&gt;</td>\n",
       "      <td>***000000**</td>\n",
       "      <td>16</td>\n",
       "    </tr>\n",
       "    <tr>\n",
       "      <th>6353954</th>\n",
       "      <td>78196516</td>\n",
       "      <td>2</td>\n",
       "      <td>&lt;NA&gt;</td>\n",
       "      <td>***000000**</td>\n",
       "      <td>16</td>\n",
       "    </tr>\n",
       "    <tr>\n",
       "      <th>6354104</th>\n",
       "      <td>13224258</td>\n",
       "      <td>2</td>\n",
       "      <td>&lt;NA&gt;</td>\n",
       "      <td>***000000**</td>\n",
       "      <td>16</td>\n",
       "    </tr>\n",
       "    <tr>\n",
       "      <th>6354140</th>\n",
       "      <td>92410018</td>\n",
       "      <td>2</td>\n",
       "      <td>&lt;NA&gt;</td>\n",
       "      <td>***000000**</td>\n",
       "      <td>16</td>\n",
       "    </tr>\n",
       "  </tbody>\n",
       "</table>\n",
       "<p>560 rows × 5 columns</p>\n",
       "</div>"
      ],
      "text/plain": [
       "             cnpj  tipo_socio nome_socio documento_socio  \\\n",
       "193222   93316370           2       <NA>     ***000000**   \n",
       "199243   93536100           2       <NA>     ***000000**   \n",
       "199519   00116136           2       <NA>     ***000000**   \n",
       "200919   93594539           2       <NA>     ***186130**   \n",
       "202878   00127405           2       <NA>     ***155103**   \n",
       "...           ...         ...        ...             ...   \n",
       "6319273  51848851           2       <NA>     ***000000**   \n",
       "6332915  03968617           2       <NA>     ***000000**   \n",
       "6353954  78196516           2       <NA>     ***000000**   \n",
       "6354104  13224258           2       <NA>     ***000000**   \n",
       "6354140  92410018           2       <NA>     ***000000**   \n",
       "\n",
       "        codigo_qualificacao_socio  \n",
       "193222                         16  \n",
       "199243                         16  \n",
       "199519                         16  \n",
       "200919                         16  \n",
       "202878                         16  \n",
       "...                           ...  \n",
       "6319273                        16  \n",
       "6332915                        16  \n",
       "6353954                        16  \n",
       "6354104                        16  \n",
       "6354140                        16  \n",
       "\n",
       "[560 rows x 5 columns]"
      ]
     },
     "execution_count": 13,
     "metadata": {},
     "output_type": "execute_result"
    }
   ],
   "source": [
    "# Check Null values for nome_socio\n",
    "df_socios[df_socios[\"nome_socio\"].isna()]"
   ]
  },
  {
   "cell_type": "code",
   "execution_count": null,
   "id": "a133b686",
   "metadata": {},
   "outputs": [
    {
     "data": {
      "text/html": [
       "<div>\n",
       "<style scoped>\n",
       "    .dataframe tbody tr th:only-of-type {\n",
       "        vertical-align: middle;\n",
       "    }\n",
       "\n",
       "    .dataframe tbody tr th {\n",
       "        vertical-align: top;\n",
       "    }\n",
       "\n",
       "    .dataframe thead th {\n",
       "        text-align: right;\n",
       "    }\n",
       "</style>\n",
       "<table border=\"1\" class=\"dataframe\">\n",
       "  <thead>\n",
       "    <tr style=\"text-align: right;\">\n",
       "      <th></th>\n",
       "      <th>cnpj</th>\n",
       "      <th>tipo_socio</th>\n",
       "      <th>nome_socio</th>\n",
       "      <th>documento_socio</th>\n",
       "      <th>codigo_qualificacao_socio</th>\n",
       "    </tr>\n",
       "  </thead>\n",
       "  <tbody>\n",
       "    <tr>\n",
       "      <th>193222</th>\n",
       "      <td>93316370</td>\n",
       "      <td>2</td>\n",
       "      <td>&lt;NA&gt;</td>\n",
       "      <td>***000000**</td>\n",
       "      <td>16</td>\n",
       "    </tr>\n",
       "    <tr>\n",
       "      <th>199243</th>\n",
       "      <td>93536100</td>\n",
       "      <td>2</td>\n",
       "      <td>&lt;NA&gt;</td>\n",
       "      <td>***000000**</td>\n",
       "      <td>16</td>\n",
       "    </tr>\n",
       "    <tr>\n",
       "      <th>199519</th>\n",
       "      <td>00116136</td>\n",
       "      <td>2</td>\n",
       "      <td>&lt;NA&gt;</td>\n",
       "      <td>***000000**</td>\n",
       "      <td>16</td>\n",
       "    </tr>\n",
       "    <tr>\n",
       "      <th>230432</th>\n",
       "      <td>94628328</td>\n",
       "      <td>2</td>\n",
       "      <td>CLAUDIOMIRO BICA PAIVA</td>\n",
       "      <td>***000000**</td>\n",
       "      <td>49</td>\n",
       "    </tr>\n",
       "    <tr>\n",
       "      <th>245391</th>\n",
       "      <td>95290342</td>\n",
       "      <td>2</td>\n",
       "      <td>&lt;NA&gt;</td>\n",
       "      <td>***000000**</td>\n",
       "      <td>16</td>\n",
       "    </tr>\n",
       "    <tr>\n",
       "      <th>...</th>\n",
       "      <td>...</td>\n",
       "      <td>...</td>\n",
       "      <td>...</td>\n",
       "      <td>...</td>\n",
       "      <td>...</td>\n",
       "    </tr>\n",
       "    <tr>\n",
       "      <th>6353954</th>\n",
       "      <td>78196516</td>\n",
       "      <td>2</td>\n",
       "      <td>&lt;NA&gt;</td>\n",
       "      <td>***000000**</td>\n",
       "      <td>16</td>\n",
       "    </tr>\n",
       "    <tr>\n",
       "      <th>6354104</th>\n",
       "      <td>13224258</td>\n",
       "      <td>2</td>\n",
       "      <td>&lt;NA&gt;</td>\n",
       "      <td>***000000**</td>\n",
       "      <td>16</td>\n",
       "    </tr>\n",
       "    <tr>\n",
       "      <th>6354140</th>\n",
       "      <td>92410018</td>\n",
       "      <td>2</td>\n",
       "      <td>&lt;NA&gt;</td>\n",
       "      <td>***000000**</td>\n",
       "      <td>16</td>\n",
       "    </tr>\n",
       "    <tr>\n",
       "      <th>6727365</th>\n",
       "      <td>15704499</td>\n",
       "      <td>2</td>\n",
       "      <td>CARLA ELIZA LIMA SOARES</td>\n",
       "      <td>***000000**</td>\n",
       "      <td>22</td>\n",
       "    </tr>\n",
       "    <tr>\n",
       "      <th>7268011</th>\n",
       "      <td>33758682</td>\n",
       "      <td>2</td>\n",
       "      <td>LEILA OSORIO TEIXEIRA</td>\n",
       "      <td>***000000**</td>\n",
       "      <td>65</td>\n",
       "    </tr>\n",
       "  </tbody>\n",
       "</table>\n",
       "<p>326 rows × 5 columns</p>\n",
       "</div>"
      ],
      "text/plain": [
       "             cnpj  tipo_socio               nome_socio documento_socio  \\\n",
       "193222   93316370           2                     <NA>     ***000000**   \n",
       "199243   93536100           2                     <NA>     ***000000**   \n",
       "199519   00116136           2                     <NA>     ***000000**   \n",
       "230432   94628328           2   CLAUDIOMIRO BICA PAIVA     ***000000**   \n",
       "245391   95290342           2                     <NA>     ***000000**   \n",
       "...           ...         ...                      ...             ...   \n",
       "6353954  78196516           2                     <NA>     ***000000**   \n",
       "6354104  13224258           2                     <NA>     ***000000**   \n",
       "6354140  92410018           2                     <NA>     ***000000**   \n",
       "6727365  15704499           2  CARLA ELIZA LIMA SOARES     ***000000**   \n",
       "7268011  33758682           2    LEILA OSORIO TEIXEIRA     ***000000**   \n",
       "\n",
       "        codigo_qualificacao_socio  \n",
       "193222                         16  \n",
       "199243                         16  \n",
       "199519                         16  \n",
       "230432                         49  \n",
       "245391                         16  \n",
       "...                           ...  \n",
       "6353954                        16  \n",
       "6354104                        16  \n",
       "6354140                        16  \n",
       "6727365                        22  \n",
       "7268011                        65  \n",
       "\n",
       "[326 rows x 5 columns]"
      ]
     },
     "execution_count": 14,
     "metadata": {},
     "output_type": "execute_result"
    }
   ],
   "source": [
    "# Check Null values como dummies for documento_socio\n",
    "df_socios[df_socios[\"documento_socio\"] == \"***000000**\"]"
   ]
  },
  {
   "cell_type": "code",
   "execution_count": 16,
   "id": "1ea37cf4",
   "metadata": {},
   "outputs": [],
   "source": [
    "# Removendo socios sem identificaçao\n",
    "df_socios = df_socios[\n",
    "    ~(\n",
    "        ((df_socios[\"nome_socio\"].isna()) & (df_socios[\"documento_socio\"].isna())) |\n",
    "        ((df_socios[\"nome_socio\"].isna()) & (df_socios[\"documento_socio\"] == \"***000000**\"))\n",
    "    )\n",
    "].copy()"
   ]
  },
  {
   "cell_type": "code",
   "execution_count": 19,
   "id": "bbebabf3",
   "metadata": {},
   "outputs": [
    {
     "data": {
      "text/html": [
       "<div>\n",
       "<style scoped>\n",
       "    .dataframe tbody tr th:only-of-type {\n",
       "        vertical-align: middle;\n",
       "    }\n",
       "\n",
       "    .dataframe tbody tr th {\n",
       "        vertical-align: top;\n",
       "    }\n",
       "\n",
       "    .dataframe thead th {\n",
       "        text-align: right;\n",
       "    }\n",
       "</style>\n",
       "<table border=\"1\" class=\"dataframe\">\n",
       "  <thead>\n",
       "    <tr style=\"text-align: right;\">\n",
       "      <th></th>\n",
       "      <th>cnpj</th>\n",
       "      <th>tipo_socio</th>\n",
       "      <th>nome_socio</th>\n",
       "      <th>documento_socio</th>\n",
       "      <th>codigo_qualificacao_socio</th>\n",
       "      <th>flag_socio_estrangeiro</th>\n",
       "    </tr>\n",
       "  </thead>\n",
       "  <tbody>\n",
       "  </tbody>\n",
       "</table>\n",
       "</div>"
      ],
      "text/plain": [
       "Empty DataFrame\n",
       "Columns: [cnpj, tipo_socio, nome_socio, documento_socio, codigo_qualificacao_socio, flag_socio_estrangeiro]\n",
       "Index: []"
      ]
     },
     "execution_count": 19,
     "metadata": {},
     "output_type": "execute_result"
    }
   ],
   "source": [
    "# Create foreigner flag\n",
    "df_socios[\"flag_socio_estrangeiro\"] = (\n",
    "    df_socios[\"documento_socio\"]\n",
    "    .fillna(\"\")  # substitui NA por string vazia\n",
    "    .eq(\"***999999**\")  # compara com o valor desejado\n",
    "    .astype(int)  # converte True/False para 1/0\n",
    ")\n",
    "\n",
    "# Checando se funcionou\n",
    "df_socios[(df_socios[\"flag_socio_estrangeiro\"] == 1) & (df_socios[\"documento_socio\"] != \"***999999**\")]"
   ]
  },
  {
   "cell_type": "code",
   "execution_count": 20,
   "id": "7c426d89",
   "metadata": {},
   "outputs": [],
   "source": [
    "# Agrupando por CNPJ qtd_socios e qtd_estrangeiros\n",
    "df_socios_processed = df_socios.groupby(\"cnpj\", dropna=False).agg(\n",
    "    qtd_socios=(\"documento_socio\", \"count\"),           # total de sócios\n",
    "    qtd_estrangeiros=(\"flag_socio_estrangeiro\", \"sum\") # total de estrangeiros\n",
    ").reset_index()"
   ]
  },
  {
   "cell_type": "markdown",
   "id": "daaeaf5c",
   "metadata": {},
   "source": [
    "# Relations"
   ]
  },
  {
   "cell_type": "code",
   "execution_count": 22,
   "id": "1122bb2d",
   "metadata": {},
   "outputs": [],
   "source": [
    "df_result = (\n",
    "    ((df_empresas[[\"cnpj\", \"cod_porte\"]]).drop_duplicates())\n",
    "    .merge(\n",
    "        df_socios_processed.drop_duplicates(),\n",
    "        \"inner\",\n",
    "        \"cnpj\"\n",
    "    )\n",
    ")"
   ]
  },
  {
   "cell_type": "code",
   "execution_count": 23,
   "id": "4be71e33",
   "metadata": {},
   "outputs": [],
   "source": [
    "df_result[\"doc_alvo\"] = df_result.apply(\n",
    "    lambda row: True if row[\"cod_porte\"] == \"03\" and row[\"qtd_socios\"] > 1 else False,\n",
    "    axis=1\n",
    ")"
   ]
  },
  {
   "cell_type": "code",
   "execution_count": 24,
   "id": "26509e09",
   "metadata": {},
   "outputs": [],
   "source": [
    "# Criar flag booleana: True se qtd_estrangeiros > 0, False caso contrário\n",
    "df_result[\"flag_socio_estrangeiro\"] = df_result[\"qtd_estrangeiros\"] > 0"
   ]
  },
  {
   "cell_type": "code",
   "execution_count": 25,
   "id": "8d9e39ce",
   "metadata": {},
   "outputs": [],
   "source": [
    "df_result = df_result[[\"cnpj\", \"qtd_socios\", \"flag_socio_estrangeiro\", \"doc_alvo\"]].drop_duplicates()"
   ]
  },
  {
   "cell_type": "markdown",
   "id": "25c8fef1",
   "metadata": {},
   "source": [
    "## DF final"
   ]
  },
  {
   "cell_type": "code",
   "execution_count": 26,
   "id": "5d9f76bd",
   "metadata": {},
   "outputs": [
    {
     "data": {
      "text/html": [
       "<div>\n",
       "<style scoped>\n",
       "    .dataframe tbody tr th:only-of-type {\n",
       "        vertical-align: middle;\n",
       "    }\n",
       "\n",
       "    .dataframe tbody tr th {\n",
       "        vertical-align: top;\n",
       "    }\n",
       "\n",
       "    .dataframe thead th {\n",
       "        text-align: right;\n",
       "    }\n",
       "</style>\n",
       "<table border=\"1\" class=\"dataframe\">\n",
       "  <thead>\n",
       "    <tr style=\"text-align: right;\">\n",
       "      <th></th>\n",
       "      <th>cnpj</th>\n",
       "      <th>qtd_socios</th>\n",
       "      <th>flag_socio_estrangeiro</th>\n",
       "      <th>doc_alvo</th>\n",
       "    </tr>\n",
       "  </thead>\n",
       "  <tbody>\n",
       "    <tr>\n",
       "      <th>0</th>\n",
       "      <td>41273629</td>\n",
       "      <td>1</td>\n",
       "      <td>False</td>\n",
       "      <td>False</td>\n",
       "    </tr>\n",
       "    <tr>\n",
       "      <th>1</th>\n",
       "      <td>41273630</td>\n",
       "      <td>1</td>\n",
       "      <td>False</td>\n",
       "      <td>False</td>\n",
       "    </tr>\n",
       "    <tr>\n",
       "      <th>2</th>\n",
       "      <td>41273631</td>\n",
       "      <td>1</td>\n",
       "      <td>False</td>\n",
       "      <td>False</td>\n",
       "    </tr>\n",
       "    <tr>\n",
       "      <th>3</th>\n",
       "      <td>41273667</td>\n",
       "      <td>1</td>\n",
       "      <td>False</td>\n",
       "      <td>False</td>\n",
       "    </tr>\n",
       "    <tr>\n",
       "      <th>4</th>\n",
       "      <td>41273676</td>\n",
       "      <td>1</td>\n",
       "      <td>False</td>\n",
       "      <td>False</td>\n",
       "    </tr>\n",
       "    <tr>\n",
       "      <th>...</th>\n",
       "      <td>...</td>\n",
       "      <td>...</td>\n",
       "      <td>...</td>\n",
       "      <td>...</td>\n",
       "    </tr>\n",
       "    <tr>\n",
       "      <th>1579637</th>\n",
       "      <td>98756349</td>\n",
       "      <td>2</td>\n",
       "      <td>False</td>\n",
       "      <td>False</td>\n",
       "    </tr>\n",
       "    <tr>\n",
       "      <th>1579638</th>\n",
       "      <td>98759046</td>\n",
       "      <td>1</td>\n",
       "      <td>False</td>\n",
       "      <td>False</td>\n",
       "    </tr>\n",
       "    <tr>\n",
       "      <th>1579639</th>\n",
       "      <td>98818214</td>\n",
       "      <td>1</td>\n",
       "      <td>False</td>\n",
       "      <td>False</td>\n",
       "    </tr>\n",
       "    <tr>\n",
       "      <th>1579640</th>\n",
       "      <td>98819402</td>\n",
       "      <td>2</td>\n",
       "      <td>False</td>\n",
       "      <td>False</td>\n",
       "    </tr>\n",
       "    <tr>\n",
       "      <th>1579641</th>\n",
       "      <td>99017782</td>\n",
       "      <td>1</td>\n",
       "      <td>False</td>\n",
       "      <td>False</td>\n",
       "    </tr>\n",
       "  </tbody>\n",
       "</table>\n",
       "<p>1579642 rows × 4 columns</p>\n",
       "</div>"
      ],
      "text/plain": [
       "             cnpj  qtd_socios  flag_socio_estrangeiro  doc_alvo\n",
       "0        41273629           1                   False     False\n",
       "1        41273630           1                   False     False\n",
       "2        41273631           1                   False     False\n",
       "3        41273667           1                   False     False\n",
       "4        41273676           1                   False     False\n",
       "...           ...         ...                     ...       ...\n",
       "1579637  98756349           2                   False     False\n",
       "1579638  98759046           1                   False     False\n",
       "1579639  98818214           1                   False     False\n",
       "1579640  98819402           2                   False     False\n",
       "1579641  99017782           1                   False     False\n",
       "\n",
       "[1579642 rows x 4 columns]"
      ]
     },
     "execution_count": 26,
     "metadata": {},
     "output_type": "execute_result"
    }
   ],
   "source": [
    "df_result"
   ]
  },
  {
   "cell_type": "code",
   "execution_count": 29,
   "id": "15a1f602",
   "metadata": {},
   "outputs": [
    {
     "name": "stdout",
     "output_type": "stream",
     "text": [
      "Não existem CNPJs duplicados\n"
     ]
    }
   ],
   "source": [
    "# Checando duplicados\n",
    "duplicates = df_result[\"cnpj\"].duplicated(keep=False).sum()\n",
    "\n",
    "if duplicates > 0:\n",
    "    print(f\"Existem {duplicates} registros duplicados\")\n",
    "else:\n",
    "    print(\"Não existem CNPJs duplicados\")"
   ]
  }
 ],
 "metadata": {
  "kernelspec": {
   "display_name": "venv",
   "language": "python",
   "name": "python3"
  },
  "language_info": {
   "codemirror_mode": {
    "name": "ipython",
    "version": 3
   },
   "file_extension": ".py",
   "mimetype": "text/x-python",
   "name": "python",
   "nbconvert_exporter": "python",
   "pygments_lexer": "ipython3",
   "version": "3.9.6"
  }
 },
 "nbformat": 4,
 "nbformat_minor": 5
}
